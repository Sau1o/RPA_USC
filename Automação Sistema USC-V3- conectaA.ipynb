{
 "cells": [
  {
   "cell_type": "markdown",
   "metadata": {},
   "source": [
    "Arquivo login.txt é um arquivo do tipo:  \n",
    "login=\"seu_ID\"  \n",
    "senha=\"sua_senha\"  \n",
    "sem as aspas"
   ]
  },
  {
   "cell_type": "code",
   "execution_count": 1,
   "metadata": {
    "scrolled": true
   },
   "outputs": [],
   "source": [
    "arquivo = open('login.txt','r')\n",
    "login=arquivo.readline().strip()\n",
    "login=login.split(':')\n",
    "login=login[1]\n",
    "\n",
    "senha=arquivo.readline().strip()\n",
    "senha=senha.split(':')\n",
    "senha=senha[1]\n",
    "\n",
    "arquivo.close()"
   ]
  },
  {
   "cell_type": "code",
   "execution_count": 2,
   "metadata": {},
   "outputs": [
    {
     "name": "stdout",
     "output_type": "stream",
     "text": [
      "PIS_TERCA_COMPLETO.xlsx\n"
     ]
    }
   ],
   "source": [
    "arquivo = open('disciplina.txt','r')\n",
    "plano=arquivo.readline().strip()\n",
    "plano=plano.split(':')\n",
    "plano=plano[1]\n",
    "\n",
    "disciplina=arquivo.readline().strip()\n",
    "disciplina=disciplina.split(':')\n",
    "disciplina=disciplina[1]\n",
    "\n",
    "print(plano)\n",
    "arquivo.close()"
   ]
  },
  {
   "cell_type": "code",
   "execution_count": 23,
   "metadata": {},
   "outputs": [
    {
     "name": "stdout",
     "output_type": "stream",
     "text": [
      "Centralize a disciplina na tela\n",
      "Centralize a disciplina na tela\n"
     ]
    },
    {
     "ename": "TimeoutException",
     "evalue": "Message: \nStacktrace:\n#0 0x55f9de14f6aa <unknown>\n#1 0x55f9dde20600 <unknown>\n#2 0x55f9dde6fbcb <unknown>\n#3 0x55f9dde6feb1 <unknown>\n#4 0x55f9ddeb3b24 <unknown>\n#5 0x55f9dde928cd <unknown>\n#6 0x55f9ddeb104a <unknown>\n#7 0x55f9dde92643 <unknown>\n#8 0x55f9dde62d31 <unknown>\n#9 0x55f9dde6379e <unknown>\n#10 0x55f9de11723b <unknown>\n#11 0x55f9de11b1d2 <unknown>\n#12 0x55f9de1045f5 <unknown>\n#13 0x55f9de11bd62 <unknown>\n#14 0x55f9de0e923f <unknown>\n#15 0x55f9de13ee48 <unknown>\n#16 0x55f9de13f020 <unknown>\n#17 0x55f9de14e47c <unknown>\n#18 0x7ff5da8bcac3 <unknown>\n",
     "output_type": "error",
     "traceback": [
      "\u001b[0;31m---------------------------------------------------------------------------\u001b[0m",
      "\u001b[0;31mTimeoutException\u001b[0m                          Traceback (most recent call last)",
      "Cell \u001b[0;32mIn[23], line 87\u001b[0m\n\u001b[1;32m     80\u001b[0m WebDriverWait(navegador, \u001b[38;5;241m10\u001b[39m)\u001b[38;5;241m.\u001b[39muntil(\n\u001b[1;32m     81\u001b[0m     EC\u001b[38;5;241m.\u001b[39mpresence_of_element_located((\n\u001b[1;32m     82\u001b[0m         By\u001b[38;5;241m.\u001b[39mXPATH,\u001b[38;5;124mf\u001b[39m\u001b[38;5;124m'\u001b[39m\u001b[38;5;124m//*[@id=\u001b[39m\u001b[38;5;124m\"\u001b[39m\u001b[38;5;124mapp\u001b[39m\u001b[38;5;124m\"\u001b[39m\u001b[38;5;124m]/div/div[1]/section[3]/div[2]/div/div[\u001b[39m\u001b[38;5;132;01m{\u001b[39;00maula\u001b[38;5;250m \u001b[39m\u001b[38;5;241m+\u001b[39m\u001b[38;5;250m \u001b[39m\u001b[38;5;241m1\u001b[39m\u001b[38;5;132;01m}\u001b[39;00m\u001b[38;5;124m]/div/div/button/div[2]/div[2]/button/span\u001b[39m\u001b[38;5;124m'\u001b[39m)))\u001b[38;5;241m.\u001b[39mclick()\n\u001b[1;32m     84\u001b[0m \u001b[38;5;66;03m#     //*[@id=\"app\"]/div/div[1]/section[3]/div[2]/div/div[2]/div/div/button/div[2]/div[2]/button/span\u001b[39;00m\n\u001b[1;32m     85\u001b[0m \n\u001b[1;32m     86\u001b[0m \u001b[38;5;66;03m#clica em Crie uma atividade\u001b[39;00m\n\u001b[0;32m---> 87\u001b[0m \u001b[43mWebDriverWait\u001b[49m\u001b[43m(\u001b[49m\u001b[43mnavegador\u001b[49m\u001b[43m,\u001b[49m\u001b[43m \u001b[49m\u001b[38;5;241;43m10\u001b[39;49m\u001b[43m)\u001b[49m\u001b[38;5;241;43m.\u001b[39;49m\u001b[43muntil\u001b[49m\u001b[43m(\u001b[49m\u001b[43mEC\u001b[49m\u001b[38;5;241;43m.\u001b[39;49m\u001b[43mpresence_of_element_located\u001b[49m\u001b[43m(\u001b[49m\u001b[43m(\u001b[49m\u001b[43mBy\u001b[49m\u001b[38;5;241;43m.\u001b[39;49m\u001b[43mXPATH\u001b[49m\u001b[43m,\u001b[49m\u001b[43m \u001b[49m\u001b[38;5;124;43m'\u001b[39;49m\u001b[38;5;124;43m//*[@id=\u001b[39;49m\u001b[38;5;124;43m\"\u001b[39;49m\u001b[38;5;124;43msnap-new-section\u001b[39;49m\u001b[38;5;124;43m\"\u001b[39;49m\u001b[38;5;124;43m]\u001b[39;49m\u001b[38;5;124;43m'\u001b[39;49m\u001b[43m)\u001b[49m\u001b[43m)\u001b[49m\u001b[43m)\u001b[49m\n\u001b[1;32m     88\u001b[0m navegador\u001b[38;5;241m.\u001b[39mfind_element(By\u001b[38;5;241m.\u001b[39mXPATH,\u001b[38;5;124m'\u001b[39m\u001b[38;5;124m//*[@id=\u001b[39m\u001b[38;5;124m\"\u001b[39m\u001b[38;5;124msnap-new-section\u001b[39m\u001b[38;5;124m\"\u001b[39m\u001b[38;5;124m]\u001b[39m\u001b[38;5;124m'\u001b[39m)\u001b[38;5;241m.\u001b[39mclick()\n\u001b[1;32m     90\u001b[0m \u001b[38;5;66;03m#escreve o topico (data - título da aula)\u001b[39;00m\n",
      "File \u001b[0;32m~/anaconda3/lib/python3.8/site-packages/selenium/webdriver/support/wait.py:90\u001b[0m, in \u001b[0;36mWebDriverWait.until\u001b[0;34m(self, method, message)\u001b[0m\n\u001b[1;32m     88\u001b[0m     \u001b[38;5;28;01mif\u001b[39;00m time\u001b[38;5;241m.\u001b[39mmonotonic() \u001b[38;5;241m>\u001b[39m end_time:\n\u001b[1;32m     89\u001b[0m         \u001b[38;5;28;01mbreak\u001b[39;00m\n\u001b[0;32m---> 90\u001b[0m \u001b[38;5;28;01mraise\u001b[39;00m TimeoutException(message, screen, stacktrace)\n",
      "\u001b[0;31mTimeoutException\u001b[0m: Message: \nStacktrace:\n#0 0x55f9de14f6aa <unknown>\n#1 0x55f9dde20600 <unknown>\n#2 0x55f9dde6fbcb <unknown>\n#3 0x55f9dde6feb1 <unknown>\n#4 0x55f9ddeb3b24 <unknown>\n#5 0x55f9dde928cd <unknown>\n#6 0x55f9ddeb104a <unknown>\n#7 0x55f9dde92643 <unknown>\n#8 0x55f9dde62d31 <unknown>\n#9 0x55f9dde6379e <unknown>\n#10 0x55f9de11723b <unknown>\n#11 0x55f9de11b1d2 <unknown>\n#12 0x55f9de1045f5 <unknown>\n#13 0x55f9de11bd62 <unknown>\n#14 0x55f9de0e923f <unknown>\n#15 0x55f9de13ee48 <unknown>\n#16 0x55f9de13f020 <unknown>\n#17 0x55f9de14e47c <unknown>\n#18 0x7ff5da8bcac3 <unknown>\n"
     ]
    }
   ],
   "source": [
    "from selenium import webdriver\n",
    "from selenium.webdriver.common.keys import Keys\n",
    "from selenium.webdriver.common.by import By\n",
    "from selenium.webdriver.support.wait import WebDriverWait\n",
    "from selenium.webdriver.support import expected_conditions as EC\n",
    "\n",
    "from selenium.webdriver.support.ui import Select \n",
    "\n",
    "import time\n",
    "\n",
    "import pandas as pd\n",
    "\n",
    "# para rodar o chrome em 2º plano\n",
    "# from selenium.webdriver.chrome.options import Options\n",
    "# chrome_options = Options()\n",
    "# chrome_options.headless = True \n",
    "# navegador = webdriver.Chrome(options=chrome_options)\n",
    "\n",
    "# abrir um navegador\n",
    "navegador = webdriver.Chrome()\n",
    "# caso queira deixar na mesma pasta do seu código\n",
    "# navegador = webdriver.Chrome(\"chromedriver.exe\")\n",
    "\n",
    "# navegador.get(\"https://unisagrado.lyceum.com.br/DOnline/DOnline/avisos/TDOL303D.tp?utm_source=Lahar&utm_medium=email&utm_campaign=_20220805_180823_Acesso_ao_Docente_Online_\")\n",
    "navegador.get(\"https://unisagrado.lyceum.com.br/DOnline/C_DOnline/Moodle/moodle.tp\")\n",
    "navegador.maximize_window() \n",
    "\n",
    "wait = WebDriverWait(navegador, 10)\n",
    "\n",
    "# Digitar usuario\n",
    "navegador.find_element(By.XPATH,'//*[@id=\"username\"]').send_keys(f\"{login}\")\n",
    "\n",
    "# Digitar senha\n",
    "navegador.find_element(By.XPATH,'//*[@id=\"password\"]').send_keys(f\"{senha}\")\n",
    "\n",
    "#Clica em entrar\n",
    "navegador.find_element(By.XPATH,'//*[@id=\"sendCredentials\"]').click()\n",
    "\n",
    "# Store the ID of the original window\n",
    "original_window = navegador.current_window_handle\n",
    "\n",
    "# Check we don't have other windows open already\n",
    "assert len(navegador.window_handles) == 1\n",
    "\n",
    "#clica em Connect usando o texto do link\n",
    "WebDriverWait(navegador, 10).until(EC.presence_of_element_located((By.LINK_TEXT, 'Connect Mais Graduação - Clique Aqui'))).click()\n",
    "\n",
    "# Wait for the new window or tab\n",
    "wait.until(EC.number_of_windows_to_be(2))\n",
    "\n",
    "# Loop through until we find a new window handle\n",
    "for window_handle in navegador.window_handles:\n",
    "    if window_handle != original_window:\n",
    "        navegador.switch_to.window(window_handle)\n",
    "        break\n",
    "        \n",
    "# Wait for the new tab to finish loading content\n",
    "wait.until(EC.title_is(\"Página Inicial :: Plataforma A\"))\n",
    "\n",
    "#clica do painel esquerdo em \"Disciplinas\"\n",
    "# navegador.find_element(By.XPATH,f'//*[@id=\"snap-pm-courses-current-cards\"]/div[{disciplina}]/div/h3/a').click()\n",
    "navegador.find_element(By.XPATH,'//*[@id=\"application\"]/div/nav/div[1]/div[2]/a[2]/div[2]').click()\n",
    "\n",
    "#clica na disciplina que sera preenchido os planos de aulas\n",
    "input(\"Centralize a disciplina na tela\")\n",
    "navegador.execute_script('window.scrollBy(0, 1800)')\n",
    "WebDriverWait(navegador, 10).until(EC.presence_of_element_located(\n",
    "    (By.XPATH,f'//*[@id=\"app\"]/div/div[1]/main/div/div/div/div/div/div[2]/div[2]/div[{disciplina}]/div[2]'))).click()\n",
    "\n",
    "#le os dados da tabela\n",
    "tabela = pd.read_excel(f'{plano}')\n",
    "\n",
    "for aula in range(0,len(tabela)):\n",
    "    data=tabela['Unnamed: 0'][aula]\n",
    "    dia=data.day\n",
    "    mes=data.month\n",
    "    \n",
    "    #clica no mais da semana que sera editada\n",
    "    input(\"Centralize a Semana na tela\")\n",
    "    WebDriverWait(navegador, 10).until(\n",
    "        EC.presence_of_element_located((\n",
    "            By.XPATH,f'//*[@id=\"app\"]/div/div[1]/section[3]/div[2]/div/div[{aula + 1}]/div/div/button/div[2]/div[2]/button/span'))).click()\n",
    "\n",
    "    #clica em Renomear\n",
    "    //*[@id=\"list-item-1185\"]/div //*[@id=\"list-item-1262\"]\n",
    "    #clica em Crie uma atividade\n",
    "    WebDriverWait(navegador, 10).until(EC.presence_of_element_located((By.XPATH, '//*[@id=\"snap-new-section\"]')))\n",
    "    navegador.find_element(By.XPATH,'//*[@id=\"snap-new-section\"]').click()\n",
    "\n",
    "    #escreve o topico (data - título da aula)\n",
    "    WebDriverWait(navegador, 10).until(EC.presence_of_element_located((By.XPATH, '//*[@id=\"newsection\"]')))\n",
    "    navegador.find_element(By.XPATH,'//*[@id=\"newsection\"]').send_keys(f'{dia:02}/{mes:02} - {tabela[\"Unnamed: 1\"][aula]}')\n",
    "\n",
    "    #clica em Criar seção\n",
    "    navegador.find_element(By.NAME,'addtopic').click()\n",
    "\n",
    "    #clica em Criar atividade de aprendizagem\n",
    "    #element = WebDriverWait(navegador, 10).until(EC.presence_of_element_located((By.XPATH, '//*[@id=\"snap-create-activity\"]/a/img')))\n",
    "    navegador.find_element(By.LINK_TEXT,'Criar atividade de aprendizagem').click()\n",
    "\n",
    "    #clica em Recursos\n",
    "    element = WebDriverWait(navegador, 10).until(EC.presence_of_element_located((By.LINK_TEXT, 'Recursos')))\n",
    "    navegador.find_element(By.LINK_TEXT,'Recursos').click()\n",
    "\n",
    "    #clica em Rótulo\n",
    "    element = WebDriverWait(navegador, 10).until(EC.presence_of_element_located((By.LINK_TEXT, 'Recursos')))\n",
    "    navegador.find_element(By.LINK_TEXT,'Rótulo').click()\n",
    "\n",
    "    #escreve o rótulo da aula\n",
    "    element = WebDriverWait(navegador, 10).until(EC.presence_of_element_located((By.XPATH, '//*[@id=\"id_introeditoreditable\"]')))\n",
    "    navegador.find_element(By.XPATH,'//*[@id=\"id_introeditoreditable\"]').send_keys(f'{tabela[\"Unnamed: 2\"][aula]}')\n",
    "\n",
    "    #clica em Salvar e voltar ao curso\n",
    "    navegador.find_element(By.XPATH,'//*[@id=\"id_submitbutton2\"]').click()\n",
    "    \n",
    "    #clica em Criar atividade de aprendizagem\n",
    "    navegador.find_element(By.LINK_TEXT,'Criar atividade de aprendizagem').click()\n",
    "     \n",
    "    #cria em tarefa\n",
    "    element = WebDriverWait(navegador, 10).until(EC.presence_of_element_located((By.LINK_TEXT, 'Tarefa'))).click()\n",
    "    \n",
    "    #escreve o nome da tarefa\n",
    "    element = WebDriverWait(navegador, 10).until(EC.presence_of_element_located((By.XPATH, '//*[@id=\"id_name\"]')))\n",
    "#     navegador.find_element(By.XPATH,'//*[@id=\"id_introeditoreditable\"]').send_keys(f'{tabela[\"Unnamed: 3\"][aula]}')\n",
    "    element.send_keys(f'{tabela[\"Unnamed: 3\"][aula]}')\n",
    "    \n",
    "    #escreve o texto da tarefa\n",
    "    element = WebDriverWait(navegador, 10).until(EC.presence_of_element_located((By.XPATH, '//*[@id=\"id_introeditoreditable\"]')))\n",
    "    navegador.find_element(By.XPATH,'//*[@id=\"id_introeditoreditable\"]').send_keys(f'{tabela[\"Unnamed: 4\"][aula]}')\n",
    "    \n",
    "    #seleciona o dia de entrega\n",
    "    x = navegador.find_element(By.ID,'id_duedate_day') \n",
    "    drop = Select(x) \n",
    "    d = str(int(tabela[\"Unnamed: 5\"][aula]))\n",
    "    drop.select_by_value(d)\n",
    "    \n",
    "    #seleciona o mes de entrega\n",
    "    x = navegador.find_element(By.ID,'id_duedate_month') \n",
    "    drop = Select(x) \n",
    "    m = str(int(tabela[\"Unnamed: 6\"][aula]))\n",
    "    drop.select_by_value(m)\n",
    "\n",
    "    #seleciona a hora de entrega\n",
    "    x = navegador.find_element(By.ID,'id_duedate_hour') \n",
    "    drop = Select(x) \n",
    "    h = str(int(tabela[\"Unnamed: 7\"][aula]))\n",
    "    drop.select_by_value(h)\n",
    "    \n",
    "    #seleciona os minutos de entrega\n",
    "    x = navegador.find_element(By.ID,'id_duedate_minute') \n",
    "    drop = Select(x) \n",
    "    minute = str(int(tabela[\"Unnamed: 8\"][aula]))\n",
    "    drop.select_by_value(minute)\n",
    "    \n",
    "    input()\n",
    "    #clica em Salvar e voltar ao curso\n",
    "    navegador.find_element(By.XPATH,'//*[@id=\"id_submitbutton2\"]').click()\n",
    "    \n",
    "    print(f'Aula do dia {dia:02}/{mes:02} - OK')\n",
    "    \n",
    "print('Término de preencher as aulas.')"
   ]
  },
  {
   "cell_type": "code",
   "execution_count": 21,
   "metadata": {},
   "outputs": [
    {
     "name": "stdout",
     "output_type": "stream",
     "text": [
      "15.0\n"
     ]
    }
   ],
   "source": [
    "tabela = pd.read_excel(f'{plano}')\n",
    "data=tabela[\"Unnamed: 8\"][0]\n",
    "print(data)"
   ]
  },
  {
   "cell_type": "code",
   "execution_count": null,
   "metadata": {},
   "outputs": [],
   "source": []
  }
 ],
 "metadata": {
  "kernelspec": {
   "display_name": "Python 3 (ipykernel)",
   "language": "python",
   "name": "python3"
  },
  "language_info": {
   "codemirror_mode": {
    "name": "ipython",
    "version": 3
   },
   "file_extension": ".py",
   "mimetype": "text/x-python",
   "name": "python",
   "nbconvert_exporter": "python",
   "pygments_lexer": "ipython3",
   "version": "3.8.16"
  }
 },
 "nbformat": 4,
 "nbformat_minor": 4
}
